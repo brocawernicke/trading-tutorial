import pandas_datareader.data as web
import matplotlib.pyplot as plt
import datetime

start = datetime.datetime(2020, 1, 1)
end = datetime.datetime(2020, 10, 22)

gs = web.DataReader("066570.KS", "yahoo", start, end)

print(gs)
gs.info()

plt.plot(gs.index, gs['Adj Close'])
